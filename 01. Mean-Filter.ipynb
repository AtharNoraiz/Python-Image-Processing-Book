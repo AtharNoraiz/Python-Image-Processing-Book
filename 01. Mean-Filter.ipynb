{
 "cells": [
  {
   "cell_type": "code",
   "execution_count": 9,
   "metadata": {
    "collapsed": true
   },
   "outputs": [],
   "source": [
    "import numpy as np\n",
    "import scipy.ndimage\n",
    "from scipy.misc.pilutil import Image\n",
    "# opening the image and converting it to grayscale\n",
    "a = Image.open('data/flower/flower3.jpg').convert('L')\n",
    "# initializing the filter of size 5 by 5\n",
    "# the filter is divided by 25 for normalization\n",
    "k = np.ones((5,5))/25\n",
    "# performing convolution\n",
    "b = scipy.ndimage.filters.convolve(a, k)\n",
    "# b is converted from an ndarray to an image\n",
    "b = scipy.misc.toimage(b)\n",
    "b.save('data/flower/mean_flower_output.jpg')"
   ]
  },
  {
   "cell_type": "code",
   "execution_count": null,
   "metadata": {
    "collapsed": true
   },
   "outputs": [],
   "source": []
  }
 ],
 "metadata": {
  "kernelspec": {
   "display_name": "Python 3",
   "language": "python",
   "name": "python3"
  },
  "language_info": {
   "codemirror_mode": {
    "name": "ipython",
    "version": 3
   },
   "file_extension": ".py",
   "mimetype": "text/x-python",
   "name": "python",
   "nbconvert_exporter": "python",
   "pygments_lexer": "ipython3",
   "version": "3.6.3"
  }
 },
 "nbformat": 4,
 "nbformat_minor": 2
}
